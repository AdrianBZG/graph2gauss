{
 "cells": [
  {
   "cell_type": "code",
   "execution_count": 1,
   "metadata": {},
   "outputs": [],
   "source": [
    "from g2g.model import Graph2Gauss\n",
    "from g2g.utils import load_dataset, score_link_prediction, score_node_classification"
   ]
  },
  {
   "cell_type": "markdown",
   "metadata": {},
   "source": [
    "### Load dataset"
   ]
  },
  {
   "cell_type": "code",
   "execution_count": 2,
   "metadata": {},
   "outputs": [],
   "source": [
    "g = load_dataset('data/cora_ml.npz')\n",
    "A, X, z = g['A'], g['X'], g['z']"
   ]
  },
  {
   "cell_type": "markdown",
   "metadata": {},
   "source": [
    "### Train a model and evaluate the link prediction performance"
   ]
  },
  {
   "cell_type": "code",
   "execution_count": 3,
   "metadata": {
    "scrolled": true
   },
   "outputs": [
    {
     "name": "stdout",
     "output_type": "stream",
     "text": [
      "epoch:   0, loss: 0.9582, val_auc: 0.6815, val_ap: 0.7130\n",
      "epoch:  50, loss: 0.2497, val_auc: 0.9594, val_ap: 0.9549\n",
      "epoch: 100, loss: 0.1632, val_auc: 0.9598, val_ap: 0.9553\n",
      "epoch: 150, loss: 0.1365, val_auc: 0.9625, val_ap: 0.9601\n",
      "epoch: 200, loss: 0.1194, val_auc: 0.9626, val_ap: 0.9607\n"
     ]
    }
   ],
   "source": [
    "g2g = Graph2Gauss(A=A, X=X, L=64, verbose=True, p_val=0.10, p_test=0.05, p_nodes=0)\n",
    "sess = g2g.train()"
   ]
  },
  {
   "cell_type": "code",
   "execution_count": 4,
   "metadata": {},
   "outputs": [
    {
     "name": "stdout",
     "output_type": "stream",
     "text": [
      "test_auc: 0.9753, test_ap: 0.9766\n"
     ]
    }
   ],
   "source": [
    "test_auc, test_ap = score_link_prediction(g2g.test_ground_truth, sess.run(g2g.neg_test_energy))\n",
    "print('test_auc: {:.4f}, test_ap: {:.4f}'.format(test_auc, test_ap))"
   ]
  },
  {
   "cell_type": "markdown",
   "metadata": {},
   "source": [
    "### Train another model and evaluate the node classification performance"
   ]
  },
  {
   "cell_type": "code",
   "execution_count": 5,
   "metadata": {
    "scrolled": true
   },
   "outputs": [
    {
     "name": "stdout",
     "output_type": "stream",
     "text": [
      "epoch:   0, loss: 0.9581\n",
      "epoch:  50, loss: 0.2532\n",
      "epoch: 100, loss: 0.1707\n"
     ]
    }
   ],
   "source": [
    "g2g = Graph2Gauss(A=A, X=X, L=64, verbose=True, p_val=0.0, p_test=0.00, max_iter=150)\n",
    "sess = g2g.train()\n",
    "mu, sigma = sess.run([g2g.mu, g2g.sigma])"
   ]
  },
  {
   "cell_type": "code",
   "execution_count": 6,
   "metadata": {},
   "outputs": [
    {
     "name": "stdout",
     "output_type": "stream",
     "text": [
      "f1_micro: 0.8323, f1_macro: 0.8206\n"
     ]
    }
   ],
   "source": [
    "f1_micro, f1_macro = score_node_classification(mu, z, n_repeat=1, norm=True)\n",
    "print('f1_micro: {:.4f}, f1_macro: {:.4f}'.format(f1_micro, f1_macro))"
   ]
  }
 ],
 "metadata": {
  "kernelspec": {
   "display_name": "Python 3",
   "language": "python",
   "name": "python3"
  },
  "language_info": {
   "codemirror_mode": {
    "name": "ipython",
    "version": 3
   },
   "file_extension": ".py",
   "mimetype": "text/x-python",
   "name": "python",
   "nbconvert_exporter": "python",
   "pygments_lexer": "ipython3",
   "version": "3.6.4"
  }
 },
 "nbformat": 4,
 "nbformat_minor": 2
}
